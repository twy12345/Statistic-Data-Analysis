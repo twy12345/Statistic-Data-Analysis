{
 "cells": [
  {
   "cell_type": "markdown",
   "id": "b335734d-0e73-4260-b92e-ac7693466ef5",
   "metadata": {},
   "source": [
    "# 前言\n",
    "\n",
    "田纳西河\n",
    "\n",
    "**统计学是研究数据的科学**\n",
    "\n",
    "\n"
   ]
  },
  {
   "cell_type": "markdown",
   "id": "4c6cc4bf-639d-42de-8b26-1613ad02f7a2",
   "metadata": {},
   "source": [
    "**平均值**：\n",
    "$$\\frac{\\sum_{i = 1}^{n}{y_{i}}}{n}$$\n",
    "\n",
    "**平均值**：\n",
    "$$\\frac{\\sum_{i = 1}^{n}{y_{i}}}{n}$$"
   ]
  },
  {
   "cell_type": "markdown",
   "id": "e730b1ad-51d4-45fb-9f10-c9db4f8d4689",
   "metadata": {},
   "source": []
  }
 ],
 "metadata": {
  "kernelspec": {
   "display_name": "Python 3 (ipykernel)",
   "language": "python",
   "name": "python3"
  },
  "language_info": {
   "codemirror_mode": {
    "name": "ipython",
    "version": 3
   },
   "file_extension": ".py",
   "mimetype": "text/x-python",
   "name": "python",
   "nbconvert_exporter": "python",
   "pygments_lexer": "ipython3",
   "version": "3.7.11"
  }
 },
 "nbformat": 4,
 "nbformat_minor": 5
}
